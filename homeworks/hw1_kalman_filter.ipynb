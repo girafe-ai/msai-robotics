{
 "cells": [
  {
   "cell_type": "markdown",
   "metadata": {},
   "source": [
    "# Home assignment 1: Kalman filter"
   ]
  },
  {
   "cell_type": "markdown",
   "metadata": {},
   "source": [
    "Imagine a robot. Robot state is described with the following parameters\n",
    "\n",
    "1. $x$, $y$ - robot coordinates,\n",
    "2. $V_x$, $V_y$ - velocities.\n",
    "\n",
    "We can only measure the coordinates of the robot, which should be reflected in the $ H $ matrix.\n",
    "\n",
    "In this homework assignment:\n",
    "- Fill in the matrices for the Kalman filter correctly.\n",
    "- For all three experiments, visualize the dependence of $ x $, $ y $, $ V_x $, $ V_y $ over time.\n",
    "- For all three experiments, visualize the dependence of each component of the gain matrix ($ K $) over time.\n",
    "     - What does the dynamics of changes in its components say?\n",
    "- How much does the velocity uncertainty decrease as a result of each experiment?"
   ]
  },
  {
   "cell_type": "code",
   "execution_count": null,
   "metadata": {
    "ExecuteTime": {
     "end_time": "2021-10-06T18:43:23.441304Z",
     "start_time": "2021-10-06T18:43:23.228920Z"
    }
   },
   "outputs": [],
   "source": [
    "import numpy as np"
   ]
  },
  {
   "cell_type": "code",
   "execution_count": null,
   "metadata": {
    "ExecuteTime": {
     "end_time": "2021-10-06T19:56:50.855904Z",
     "start_time": "2021-10-06T19:56:50.847424Z"
    }
   },
   "outputs": [],
   "source": [
    "def kalman_filter(x, E):\n",
    "    \"\"\"Apply Kalman filter to sequence\n",
    "\n",
    "    Args:\n",
    "        x: initial state space configuration (location and velocity)\n",
    "        E: initial covariance matrix\n",
    "    \"\"\"\n",
    "    k_log = []\n",
    "\n",
    "    for measurement in measurements:\n",
    "        # prediction\n",
    "        x = (F @ x) + u\n",
    "        E = F @ E @ F.T\n",
    "\n",
    "        # measurement update\n",
    "        Z = np.array([measurement])\n",
    "        S = H @ E @ H.T + R\n",
    "        K = E @ H.T @ np.linalg.inv(S)\n",
    "        k_log.append(K)\n",
    "        x = x + (K @ (Z.T - (H @ x)))\n",
    "        E = (I - (K @ H)) @ E\n",
    "\n",
    "        print(f\"x= \\n{x}\")\n",
    "        print(f\"E= \\n{E}\")\n",
    "\n",
    "    return k_log"
   ]
  },
  {
   "cell_type": "markdown",
   "metadata": {},
   "source": [
    "You could edit `kalman_filter` function if you need more info about the process e.g. `x` values over time and so on\n",
    "\n",
    "_Hint:_ to define matrices below function [np.diag](https://numpy.org/doc/stable/reference/generated/numpy.diag.html) is very handy"
   ]
  },
  {
   "cell_type": "code",
   "execution_count": null,
   "metadata": {},
   "outputs": [],
   "source": [
    "dt = 0.1\n",
    "\n",
    "# initial covariance matrix: 0. for positions x and y, 1000 for the two velocities\n",
    "E = \n",
    "\n",
    "# next state function: 4D\n",
    "F = \n",
    "\n",
    "# measurement function: reflect the fact that we observe x and y but not the two velocities\n",
    "H = \n",
    "\n",
    "# measurement uncertainty: use 2x2 matrix with 0.1 as main diagonal\n",
    "R = \n",
    "\n",
    "# 4D identity matrix\n",
    "I = "
   ]
  },
  {
   "cell_type": "markdown",
   "metadata": {},
   "source": [
    "## First experiment"
   ]
  },
  {
   "cell_type": "code",
   "execution_count": null,
   "metadata": {},
   "outputs": [],
   "source": [
    "measurements = [[5.0, 10.0], [6.0, 8.0], [7.0, 6.0], [8.0, 4.0], [9.0, 2.0], [10.0, 0.0]]\n",
    "initial_xy = [4.0, 12.0]\n",
    "\n",
    "\n",
    "# initial robot state (location and velocity)\n",
    "x = np.array([[initial_xy[0]], [initial_xy[1]], [0.0], [0.0]])\n",
    "# external motion applied to the robot\n",
    "u = np.array([[0.0], [0.1], [0.0], [0.0]])"
   ]
  },
  {
   "cell_type": "code",
   "execution_count": null,
   "metadata": {},
   "outputs": [],
   "source": [
    "kalman_filter(x, E)"
   ]
  },
  {
   "cell_type": "markdown",
   "metadata": {},
   "source": [
    "Visualize the dependence of $ x $, $ y $, $ V_x $, $ V_y $ over time\n",
    "\n",
    "_(It's a good idea to write a function for this, so you could reuse it in the next experiment)_"
   ]
  },
  {
   "cell_type": "code",
   "execution_count": null,
   "metadata": {},
   "outputs": [],
   "source": [
    "# YOUR CODE HERE"
   ]
  },
  {
   "cell_type": "markdown",
   "metadata": {},
   "source": [
    "Visualize the components of the $ K $ matrix below"
   ]
  },
  {
   "cell_type": "code",
   "execution_count": null,
   "metadata": {},
   "outputs": [],
   "source": [
    "# YOUR CODE HERE"
   ]
  },
  {
   "cell_type": "markdown",
   "metadata": {},
   "source": [
    "## Second experiment"
   ]
  },
  {
   "cell_type": "code",
   "execution_count": null,
   "metadata": {},
   "outputs": [],
   "source": [
    "measurements = [[1.0, 4.0], [6.0, 0.0], [11.0, -4.0], [16.0, -8.0]]\n",
    "initial_xy = [-4.0, 8.0]\n",
    "\n",
    "dt = 0.1\n",
    "\n",
    "# initial robot state (location and velocity)\n",
    "x = np.array([[initial_xy[0]], [initial_xy[1]], [0.0], [0.0]])\n",
    "# external motion applied to the robot\n",
    "u = np.array([[0.0], [0.1], [0.0], [0.0]])"
   ]
  },
  {
   "cell_type": "code",
   "execution_count": null,
   "metadata": {},
   "outputs": [],
   "source": [
    "kalman_filter(x, E)"
   ]
  },
  {
   "cell_type": "markdown",
   "metadata": {},
   "source": [
    "Visualize the dependence of $ x $, $ y $, $ V_x $, $ V_y $ over time"
   ]
  },
  {
   "cell_type": "code",
   "execution_count": null,
   "metadata": {},
   "outputs": [],
   "source": [
    "# YOUR CODE HERE"
   ]
  },
  {
   "cell_type": "markdown",
   "metadata": {},
   "source": [
    "Visualize the components of the $ K $ matrix below"
   ]
  },
  {
   "cell_type": "code",
   "execution_count": null,
   "metadata": {},
   "outputs": [],
   "source": [
    "# YOUR CODE HERE"
   ]
  },
  {
   "cell_type": "markdown",
   "metadata": {},
   "source": [
    "## Third Experiment"
   ]
  },
  {
   "cell_type": "code",
   "execution_count": null,
   "metadata": {},
   "outputs": [],
   "source": [
    "measurements = [[1.0, 17.0], [1.0, 15.0], [1.0, 13.0], [1.0, 11.0]]\n",
    "initial_xy = [1.0, 19.0]\n",
    "\n",
    "dt = 0.1\n",
    "\n",
    "# initial robot state (location and velocity)\n",
    "x = np.array([[initial_xy[0]], [initial_xy[1]], [0.0], [0.0]])\n",
    "# external motion applied to the robot\n",
    "u = np.array([[0.0], [0.1], [0.0], [0.0]])"
   ]
  },
  {
   "cell_type": "code",
   "execution_count": null,
   "metadata": {},
   "outputs": [],
   "source": [
    "kalman_filter(x, E)"
   ]
  },
  {
   "cell_type": "markdown",
   "metadata": {},
   "source": [
    "Visualize the dependence of $ x $, $ y $, $ V_x $, $ V_y $ over time"
   ]
  },
  {
   "cell_type": "code",
   "execution_count": null,
   "metadata": {},
   "outputs": [],
   "source": [
    "# YOUR CODE HERE"
   ]
  },
  {
   "cell_type": "markdown",
   "metadata": {},
   "source": [
    "Visualize the components of the $ K $ matrix below"
   ]
  },
  {
   "cell_type": "code",
   "execution_count": null,
   "metadata": {},
   "outputs": [],
   "source": [
    "# YOUR CODE HERE"
   ]
  },
  {
   "cell_type": "markdown",
   "metadata": {},
   "source": [
    "## Conclusions\n",
    "\n",
    "Don't forget to put your thoughts on the experiments above.\n",
    "\n",
    "Questions to stimulate thoughts could be found in the beginning of the notebook =)"
   ]
  },
  {
   "cell_type": "markdown",
   "metadata": {},
   "source": []
  }
 ],
 "metadata": {
  "kernelspec": {
   "display_name": "Python [conda env:ml-mipt]",
   "language": "python",
   "name": "conda-env-ml-mipt-py"
  },
  "language_info": {
   "codemirror_mode": {
    "name": "ipython",
    "version": 3
   },
   "file_extension": ".py",
   "mimetype": "text/x-python",
   "name": "python",
   "nbconvert_exporter": "python",
   "pygments_lexer": "ipython3",
   "version": "3.8.5"
  },
  "toc": {
   "base_numbering": 1,
   "nav_menu": {},
   "number_sections": true,
   "sideBar": true,
   "skip_h1_title": false,
   "title_cell": "Table of Contents",
   "title_sidebar": "Contents",
   "toc_cell": false,
   "toc_position": {},
   "toc_section_display": true,
   "toc_window_display": true
  }
 },
 "nbformat": 4,
 "nbformat_minor": 2
}
